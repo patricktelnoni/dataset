{
 "cells": [
  {
   "cell_type": "code",
   "execution_count": 4,
   "metadata": {},
   "outputs": [
    {
     "name": "stdout",
     "output_type": "stream",
     "text": [
      "patrickadolf\n"
     ]
    }
   ],
   "source": [
    "import requests, praw\n",
    "\n",
    "reddit = praw.Reddit(client_id=\"ycVbNxFmwCDfGw\",\n",
    "                     client_secret=\"zfubRsz1R0YEdJtInICWOCr8e20eVw\",\n",
    "                     password=\"P4t_$sie\",\n",
    "                     user_agent=\"testscript by u/patrickadolf\",\n",
    "                     username=\"patrickadolf\")\n",
    "\n",
    "print(reddit.user.me())"
   ]
  },
  {
   "cell_type": "code",
   "execution_count": 5,
   "metadata": {},
   "outputs": [
    {
     "name": "stdout",
     "output_type": "stream",
     "text": [
      "Kedai Kopi CBD\n",
      "[ASK] ga ada ya forum mirip wallstreetbets buat stock IDX?\n",
      "Wawancara Seth Klarman terkait Value Investing dan Filosofi Investasinya\n",
      "Sistem investasi p2p sebenarnya gmn ?\n",
      "HELP! Bagaimana cara tahu bahwa sebuah perusahaan itu legit atau nggak?\n",
      "Im looking to invest in RDPT/RDPU, im a bit lost\n",
      "Materi dan bilyet giro\n",
      "About KRAS\n",
      "Emiten emiten Sektor farmasi ARB setelah vaksin sinovac. Thoughts?\n",
      "Artikel dari Forbes terkait pentingnya ROIC\n"
     ]
    }
   ],
   "source": [
    "hot_posts = reddit.subreddit('finansial').hot(limit=10)\n",
    "for post in hot_posts:\n",
    "    print(post.title)"
   ]
  },
  {
   "cell_type": "code",
   "execution_count": null,
   "metadata": {
    "collapsed": true
   },
   "outputs": [],
   "source": []
  }
 ],
 "metadata": {
  "kernelspec": {
   "display_name": "Python 3",
   "language": "python",
   "name": "python3"
  },
  "language_info": {
   "codemirror_mode": {
    "name": "ipython",
    "version": 3
   },
   "file_extension": ".py",
   "mimetype": "text/x-python",
   "name": "python",
   "nbconvert_exporter": "python",
   "pygments_lexer": "ipython3",
   "version": "3.6.3"
  }
 },
 "nbformat": 4,
 "nbformat_minor": 2
}
